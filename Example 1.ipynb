{
 "cells": [
  {
   "cell_type": "markdown",
   "metadata": {},
   "source": [
    "## Example 1 ##\n",
    "\n",
    "An example to demonstrate use of the theano-based gradient descent code.\n",
    "\n",
    "1) We create and plot a target intensity"
   ]
  },
  {
   "cell_type": "code",
   "execution_count": 30,
   "metadata": {
    "collapsed": false
   },
   "outputs": [
    {
     "data": {
      "text/plain": [
       "<matplotlib.text.Text at 0x7feec66d2a50>"
      ]
     },
     "execution_count": 30,
     "metadata": {},
     "output_type": "execute_result"
    },
    {
     "data": {
      "image/png": "[encoded data removed]",
      "text/plain": [
       "<matplotlib.figure.Figure at 0x7feec671d8d0>"
      ]
     },
     "metadata": {},
     "output_type": "display_data"
    }
   ],
   "source": [
    "import matplotlib.pyplot as plt\n",
    "import numpy as np\n",
    "\n",
    "%matplotlib inline\n",
    "\n",
    "def make_target(n, x0, w):\n",
    "    \"\"\"\n",
    "    Create a target intensity size n x n, consisting of a Gaussian centred\n",
    "    on x0, with width w.\n",
    "    \"\"\"\n",
    "    x = np.array(range(n)) * 1.\n",
    "    X, Y = np.meshgrid(x, x)\n",
    "\n",
    "    target = np.exp(-(np.power(X-x0[0],2) + np.power(Y-x0[1],2))/(2*w**2))\n",
    "    return target\n",
    "    \n",
    "N = 256         # size of SLM is NxN\n",
    "target = make_target(2*N, x0=(150, 150), w=50);\n",
    "np.savetxt('slm_target1.txt', target)\n",
    "\n",
    "plot_args = {'extent':[0, 2*N, 0, 2*N],\n",
    "             'interpolation':'None',\n",
    "             'origin': 'lower'}\n",
    "fig = plt.figure()\n",
    "ax = fig.gca()\n",
    "ax.imshow(target, vmin=0, vmax=3, **plot_args)\n",
    "ax.set_title('Target')"
   ]
  },
  {
   "cell_type": "code",
   "execution_count": null,
   "metadata": {
    "collapsed": true
   },
   "outputs": [],
   "source": []
  }
 ],
 "metadata": {
  "kernelspec": {
   "display_name": "Python 2",
   "language": "python",
   "name": "python2"
  },
  "language_info": {
   "codemirror_mode": {
    "name": "ipython",
    "version": 2
   },
   "file_extension": ".py",
   "mimetype": "text/x-python",
   "name": "python",
   "nbconvert_exporter": "python",
   "pygments_lexer": "ipython2",
   "version": "2.7.6"
  }
 },
 "nbformat": 4,
 "nbformat_minor": 0
}
