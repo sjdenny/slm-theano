{
 "cells": [
  {
   "cell_type": "markdown",
   "metadata": {},
   "source": [
    "## Defining signal/noise regions, weighting arrays etc ##\n",
    "\n",
    "\n",
    "### Tiff's notes ###\n",
    " - Example shown for 2nd order power-law. The weighting array is a very simple signal/noise region - this won't give the best results!\n",
    " - Many different sets of weighting arrays can be generated for a single target; these will be saved in their own folders to keep things clear and avoiding the need for replicating definitions. Make sure that all parameters required to reproduce the array are saved - either in the folder name or (probably neater) in a separate text file. \n",
    " - It would probably be useful to extend this to create different weighting arrays for different cost function terms. This should be very straightforward, but try to keep everything organised otherwise it will quickly become confusing!\n",
    " - Although a range of weighting arrays will be used, most will probably be based quite heavily on the target: might be useful to define params from the information given in targetdir."
   ]
  },
  {
   "cell_type": "markdown",
   "metadata": {},
   "source": [
    "### Preamble; plot definitions ###"
   ]
  },
  {
   "cell_type": "code",
   "execution_count": 1,
   "metadata": {
    "collapsed": true
   },
   "outputs": [],
   "source": [
    "import matplotlib.pyplot as plt\n",
    "import numpy as np\n",
    "import os\n",
    "\n",
    "%matplotlib inline\n",
    "\n",
    "def quick_plot(target, params):\n",
    "    N = target.shape[0]\n",
    "    x0 = params['r0'][0]\n",
    "    \n",
    "    plot_args = {'extent': [0, N, 0, N],\n",
    "                 'interpolation': 'None',\n",
    "                 'origin': 'lower'}\n",
    "    fig, axes = plt.subplots(ncols=1)\n",
    "    axes[0].imshow(target, **plot_args)\n",
    "    axes[0].set_title('Cost function weighting')"
   ]
  },
  {
   "cell_type": "markdown",
   "metadata": {},
   "source": [
    "### Load target ###"
   ]
  },
  {
   "cell_type": "code",
   "execution_count": null,
   "metadata": {
    "collapsed": true
   },
   "outputs": [],
   "source": [
    "targetdir = '/initialisation/example_power2_512_\\(350\\,350\\)_64/'\n",
    "\n",
    "target = np.loadtxt(os.path.join(targetdir, 'target.dat'))"
   ]
  },
  {
   "cell_type": "markdown",
   "metadata": {},
   "source": [
    "### Weighting array ###\n"
   ]
  },
  {
   "cell_type": "code",
   "execution_count": 2,
   "metadata": {
    "collapsed": false
   },
   "outputs": [
    {
     "name": "stdout",
     "output_type": "stream",
     "text": [
      "Saved to targets/example_power2_512_(350,350)_64.dat\n"
     ]
    },
    {
     "data": {
      "image/png": "[encoded data removed]",
      "text/plain": [
       "<matplotlib.figure.Figure at 0x10a6f4e90>"
      ]
     },
     "metadata": {},
     "output_type": "display_data"
    }
   ],
   "source": [
    "def make_(n, r0, d, A=1.0,):\n",
    "    \"\"\"\n",
    "    Create n x n weighting array: \n",
    "    As a simple example, just have a step change between flat signal and noise regions.\n",
    "    \"\"\"\n",
    "    x = np.array(range(n))*1.\n",
    "    X, Y = np.meshgrid(x, x)\n",
    "    \n",
    "    delta_r2 = np.power(X - r0[0], 2) + np.power(Y - r0[1], 2)\n",
    "    z = np.array(range(n))*1.\n",
    "    z[delta_r2 > d**2/4] = 0\n",
    "    \n",
    "    return z\n",
    "\n",
    "\n",
    "params = {'n': 512,\n",
    "          'r0': (350, 350),\n",
    "          'd': 64,\n",
    "          'A': 1.0}\n",
    "\n",
    "\n",
    "t = make_power2(**params)\n",
    "filename = 'targets/example_power2_{n}_{r0}_{d}.dat'.format(**params).replace(' ', '')\n",
    "quick_plot(t, params)\n",
    "np.savetxt(filename, t)\n",
    "print 'Saved to ' + filename"
   ]
  }
 ],
 "metadata": {
  "kernelspec": {
   "display_name": "Python 2",
   "language": "python",
   "name": "python2"
  },
  "language_info": {
   "codemirror_mode": {
    "name": "ipython",
    "version": 2
   },
   "file_extension": ".py",
   "mimetype": "text/x-python",
   "name": "python",
   "nbconvert_exporter": "python",
   "pygments_lexer": "ipython2",
   "version": "2.7.9"
  }
 },
 "nbformat": 4,
 "nbformat_minor": 0
}
