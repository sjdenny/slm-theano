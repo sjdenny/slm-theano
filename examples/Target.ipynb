{
 "cells": [
  {
   "cell_type": "markdown",
   "metadata": {},
   "source": [
    "# Target calculation #\n",
    "\n",
    "\n",
    "### Tiff's notes ###\n",
    "\n",
    " - could leave padding (-> target size) more flexible - but given that x2 always seems to work best this probably isn't necessary\n",
    " - pattern dimensions defined for the 512 x 512 (padded) plane: remember that these will turn out smaller for the 'true' 256 x 256 output plane! - or could just amend to double the size within the target definition. i.e. currently, if we want a 32-pixel diameter pattern, need to define diameter as 64 pixels!\n",
    " - always call the centre r0! Otherwise the plot will get upset :(\n",
    " - there's quite a lot of copying and pasting between the various targets. This is upsetting Sam."
   ]
  },
  {
   "cell_type": "markdown",
   "metadata": {},
   "source": [
    "### Preamble; plot setup ###"
   ]
  },
  {
   "cell_type": "code",
   "execution_count": 4,
   "metadata": {
    "collapsed": true
   },
   "outputs": [],
   "source": [
    "import matplotlib.pyplot as plt\n",
    "import numpy as np\n",
    "import os\n",
    "\n",
    "%matplotlib inline\n",
    "\n",
    "def quick_plot(target, params):\n",
    "    N = target.shape[0]\n",
    "    x0 = params['r0'][0]\n",
    "    \n",
    "    plot_args = {'extent': [0, N, 0, N],\n",
    "                 'interpolation': 'None',\n",
    "                 'origin': 'lower'}\n",
    "    fig, axes = plt.subplots(ncols=2)\n",
    "    axes[0].imshow(target, **plot_args)\n",
    "    axes[0].set_title('Target')\n",
    "    axes[1].plot(target[x0,:])\n",
    "    axes[1].set_title('Target (cross-section)')"
   ]
  },
  {
   "cell_type": "markdown",
   "metadata": {},
   "source": [
    "## Targets ##"
   ]
  },
  {
   "cell_type": "markdown",
   "metadata": {},
   "source": [
    "### 2nd order power-law ###"
   ]
  },
  {
   "cell_type": "code",
   "execution_count": 7,
   "metadata": {
    "collapsed": false
   },
   "outputs": [
    {
     "name": "stdout",
     "output_type": "stream",
     "text": [
      "Saved to initialisation/example_power2_512_(350,350)_64/target.dat\n"
     ]
    },
    {
     "data": {
      "image/png": "[encoded data removed]",
      "text/plain": [
       "<matplotlib.figure.Figure at 0x11234a990>"
      ]
     },
     "metadata": {},
     "output_type": "display_data"
    }
   ],
   "source": [
    "def make_power2(n, r0, d, A=1.0):\n",
    "    \"\"\"\n",
    "    Create n x n target: \n",
    "    2nd order power law centred on r0=(x0,y0) with diameter d and amplitude A\n",
    "    \"\"\"\n",
    "    x = np.array(range(n))*1.\n",
    "    X, Y = np.meshgrid(x, x)\n",
    "    \n",
    "    delta_r2 = np.power(X - r0[0], 2) + np.power(Y - r0[1], 2)\n",
    "    z = A - 4*A/d**2 * delta_r2\n",
    "    z[delta_r2 > d**2/4] = 0\n",
    "    \n",
    "    return z\n",
    "\n",
    "params = {'n': 512,\n",
    "          'r0': (350, 350),\n",
    "          'd': 64,\n",
    "          'A': 1.0}\n",
    "t = make_power2(**params)\n",
    "\n",
    "targetdir = 'initialisation/example_power2_{n}_{r0}_{d}/'.format(**params).replace(' ', '')\n",
    "if not os.path.exists(targetdir):\n",
    "    os.makedirs(targetdir)\n",
    "\n",
    "filename = os.path.join(targetdir, 'target.dat')\n",
    "quick_plot(t, params)\n",
    "np.savetxt(filename, t)\n",
    "print 'Saved to ' + filename"
   ]
  },
  {
   "cell_type": "markdown",
   "metadata": {
    "collapsed": true
   },
   "source": [
    "### Superlorentzian (square) ###"
   ]
  },
  {
   "cell_type": "code",
   "execution_count": 5,
   "metadata": {
    "collapsed": false
   },
   "outputs": [
    {
     "name": "stdout",
     "output_type": "stream",
     "text": [
      "Saved to targets/example_superlorentzian_square_10_512_(350,350)_26.dat\n"
     ]
    },
    {
     "data": {
      "image/png": "[encoded data removed]",
      "text/plain": [
       "<matplotlib.figure.Figure at 0x108b63b50>"
      ]
     },
     "metadata": {},
     "output_type": "display_data"
    }
   ],
   "source": [
    "def make_superlorentzian_square(n, r0, d, p, A=1.0):\n",
    "    \"\"\"\n",
    "    Create n x n target: \n",
    "    p-th order Superlorentzian centred on r0=(x0,y0) with radius diameter d and amplitude A\n",
    "    \"\"\"\n",
    "    x = np.array(range(n))*1.\n",
    "    X, Y = np.meshgrid(x, x)\n",
    "    \n",
    "    z = A/((1+((X-r0[0])/d)**p)*(1+((Y-r0[1])/d)**p))\n",
    "    \n",
    "    return z\n",
    "\n",
    "params = {'n': 512,\n",
    "          'r0': (350, 350),\n",
    "          'd': 26,\n",
    "          'p': 10,\n",
    "          'A': 1.0}\n",
    "t = make_superlorentzian_square(**params)\n",
    "\n",
    "targetdir = 'initialisation/example_superlorentzian_square_{p}_{n}_{r0}_{d}/'.format(**params).replace(' ', '')\n",
    "if not os.path.exists(targetdir):\n",
    "    os.makedirs(targetdir)\n",
    "\n",
    "filename = os.path.join(targetdir, 'target.dat')\n",
    "quick_plot(t, params)\n",
    "np.savetxt(filename, t)\n",
    "print 'Saved to ' + filename"
   ]
  },
  {
   "cell_type": "markdown",
   "metadata": {},
   "source": [
    "### Superlorentzian (circle) ###"
   ]
  },
  {
   "cell_type": "code",
   "execution_count": 6,
   "metadata": {
    "collapsed": false
   },
   "outputs": [
    {
     "name": "stdout",
     "output_type": "stream",
     "text": [
      "Saved to targets/example_superlorentzian_circle_10_512_(350,350)_26.dat\n"
     ]
    },
    {
     "data": {
      "image/png": "[encoded data removed]",
      "text/plain": [
       "<matplotlib.figure.Figure at 0x108b6f390>"
      ]
     },
     "metadata": {},
     "output_type": "display_data"
    }
   ],
   "source": [
    "def make_superlorentzian_circle(n, r0, d, p, A=1.0):\n",
    "    \"\"\"\n",
    "    Create n x n target: \n",
    "    p-th order Superlorentzian centred on r0=(x0,y0) with radius diameter d and amplitude A\n",
    "    \"\"\"\n",
    "    x = np.array(range(n))*1.\n",
    "    X, Y = np.meshgrid(x, x)\n",
    "    \n",
    "    delta_r2 = np.power(X - r0[0], 2) + np.power(Y - r0[1], 2)\n",
    "\n",
    "    z = A/(1+(np.sqrt(delta_r2)/d)**p)\n",
    "    \n",
    "    return z\n",
    "\n",
    "params = {'n': 512,\n",
    "          'r0': (350, 350),\n",
    "          'd': 26,\n",
    "          'p': 10,\n",
    "          'A': 1.0}\n",
    "t = make_superlorentzian_circle(**params)\n",
    "\n",
    "targetdir = 'initialisation/example_superlorentzian_circle_{p}_{n}_{r0}_{d}/'.format(**params).replace(' ', '')\n",
    "if not os.path.exists(targetdir):\n",
    "    os.makedirs(targetdir)\n",
    "    \n",
    "filename = os.path.join(targetdir, 'target.dat')\n",
    "quick_plot(t, params)\n",
    "np.savetxt(filename, t)\n",
    "print 'Saved to ' + filename"
   ]
  },
  {
   "cell_type": "code",
   "execution_count": null,
   "metadata": {
    "collapsed": true
   },
   "outputs": [],
   "source": []
  }
 ],
 "metadata": {
  "kernelspec": {
   "display_name": "Python 2",
   "language": "python",
   "name": "python2"
  },
  "language_info": {
   "codemirror_mode": {
    "name": "ipython",
    "version": 2
   },
   "file_extension": ".py",
   "mimetype": "text/x-python",
   "name": "python",
   "nbconvert_exporter": "python",
   "pygments_lexer": "ipython2",
   "version": "2.7.9"
  }
 },
 "nbformat": 4,
 "nbformat_minor": 0
}
