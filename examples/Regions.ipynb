{
 "cells": [
  {
   "cell_type": "markdown",
   "metadata": {},
   "source": [
    "## Defining signal/noise regions, weighting arrays etc ##\n",
    "\n",
    "\n",
    "### Tiff's notes ###\n",
    " - Example shown for 2nd order power-law. The weighting array is a very simple signal/noise region - this won't give the best results!\n",
    " - Many different sets of weighting arrays can be generated for a single target; these will be saved in their own folders to keep things clear and avoiding the need for replicating definitions. Make sure that all parameters required to reproduce the array are saved - either in the folder name or (probably neater) in a separate text file (have separate files for weighting arrays, cost functions used etc, or combine as one? Have separate for now, though might be nice to combine at some point?). As weighting arrays get more complicated, try to find a neat way of storing all this information!\n",
    " - It would probably be useful to extend this to create different weighting arrays for different cost function terms. This should be very straightforward, but try to keep everything organised otherwise it will quickly become confusing!\n",
    " - Although a range of weighting arrays will be used, most will probably be based quite heavily on the target: might be useful to define params from the information given in targetdir.\n",
    " - For even just slightly more complicated weighting arrays than this, will need to organise much more clearly - probably use text file for this.\n",
    " - Weighting-Target plot just to check that weighting array looks sensible! There's probably a better way of representing this!\n",
    " - Have separated into multiple notebooks to make things clearer, but does involve a bit more copying and pasting of directory names etc - may be more straightforward to move this into the cost function definition of phase_calculation (or to move cost function definition here?)"
   ]
  },
  {
   "cell_type": "markdown",
   "metadata": {},
   "source": [
    "### Preamble; plot definitions ###"
   ]
  },
  {
   "cell_type": "code",
   "execution_count": 1,
   "metadata": {
    "collapsed": true
   },
   "outputs": [],
   "source": [
    "import matplotlib.pyplot as plt\n",
    "import numpy as np\n",
    "import os\n",
    "\n",
    "%matplotlib inline\n",
    "\n",
    "def quick_plot(weighting, target):\n",
    "    N = target.shape[0]\n",
    "    \n",
    "    plot_args = {'extent': [0, N, 0, N],\n",
    "                 'interpolation': 'None',\n",
    "                 'origin': 'lower'}\n",
    "    fig, axes = plt.subplots(ncols=2)\n",
    "    axes[0].imshow(weighting, **plot_args)\n",
    "    axes[0].set_title('Cost function weighting')\n",
    "    axes[1].imshow(weighting - target, **plot_args)\n",
    "    axes[1].set_title('Weighting array - Target')"
   ]
  },
  {
   "cell_type": "markdown",
   "metadata": {},
   "source": [
    "### Load target ###"
   ]
  },
  {
   "cell_type": "code",
   "execution_count": 2,
   "metadata": {
    "collapsed": false
   },
   "outputs": [],
   "source": [
    "targetdir = '../initialisation/example_power2_512_(350,350)_64/'\n",
    "targetname = os.path.join(targetdir, 'target.dat')\n",
    "\n",
    "t = np.loadtxt(targetname)"
   ]
  },
  {
   "cell_type": "markdown",
   "metadata": {},
   "source": [
    "### Weighting array ###\n"
   ]
  },
  {
   "cell_type": "code",
   "execution_count": 3,
   "metadata": {
    "collapsed": false
   },
   "outputs": [
    {
     "name": "stdout",
     "output_type": "stream",
     "text": [
      "Saved weighting array to ../initialisation/example_power2_512_(350,350)_64/weighting_border_16_noise_1e-06/weight.dat\n",
      "Saved weighting (active smoothing) array to ../initialisation/example_power2_512_(350,350)_64/weighting_border_16_noise_1e-06/weight_as.dat\n"
     ]
    },
    {
     "data": {
      "image/png": "[encoded data removed]",
      "text/plain": [
       "<matplotlib.figure.Figure at 0x7fa809e17a50>"
      ]
     },
     "metadata": {},
     "output_type": "display_data"
    },
    {
     "data": {
      "image/png": "[encoded data removed]",
      "text/plain": [
       "<matplotlib.figure.Figure at 0x7fa8044242d0>"
      ]
     },
     "metadata": {},
     "output_type": "display_data"
    }
   ],
   "source": [
    "def make_weighting(n, r0, d, b, s):\n",
    "    \"\"\"\n",
    "    Create n x n weighting array: \n",
    "    Pattern centre r0, diameter d defined by target;\n",
    "    Border b gives number of pixels between the edge of the trapping pattern and start of noise region\n",
    "    As a simple example, just have a step change between flat signal region with amplitude 1\n",
    "    and noise region with amplitude s relative to this.\n",
    "    \"\"\"\n",
    "    x = np.array(range(n))*1.\n",
    "    X, Y = np.meshgrid(x, x)\n",
    "    \n",
    "    delta_r2 = np.power(X - r0[0], 2) + np.power(Y - r0[1], 2)\n",
    "    z = np.ones((n, n))\n",
    "    z[delta_r2 > (b + d/2)**2] = s\n",
    "    \n",
    "    # for active smoothing:\n",
    "    z_as = np.ones((n, n))\n",
    "    z_as[delta_r2 > (d/2)**2] = 0\n",
    "    \n",
    "    return z, z_as\n",
    "\n",
    "\n",
    "params = {'n': 512,\n",
    "          'r0': (350, 350),\n",
    "          'd': 64,\n",
    "          'b': 16,\n",
    "          's': 1E-6}\n",
    "\n",
    "w, w_as = make_weighting(**params)\n",
    "\n",
    "\n",
    "newdir = os.path.join(targetdir, 'weighting_border_{b}_noise_{s}/'.format(**params))\n",
    "if not os.path.exists(newdir):\n",
    "    os.makedirs(newdir)\n",
    "\n",
    "filename = os.path.join(newdir, 'weight.dat')\n",
    "#txtname = os.path.join(targetdir, 'weight_notes.txt')\n",
    "\n",
    "quick_plot(w, t)\n",
    "np.savetxt(filename, w)\n",
    "\n",
    "print 'Saved weighting array to ' + filename\n",
    "\n",
    "filename = os.path.join(newdir, 'weight_as.dat')\n",
    "quick_plot(w_as, t)\n",
    "np.savetxt(filename, w_as)\n",
    "\n",
    "print 'Saved weighting (active smoothing) array to ' + filename"
   ]
  },
  {
   "cell_type": "code",
   "execution_count": null,
   "metadata": {
    "collapsed": true
   },
   "outputs": [],
   "source": []
  }
 ],
 "metadata": {
  "kernelspec": {
   "display_name": "Python 2",
   "language": "python",
   "name": "python2"
  },
  "language_info": {
   "codemirror_mode": {
    "name": "ipython",
    "version": 2
   },
   "file_extension": ".py",
   "mimetype": "text/x-python",
   "name": "python",
   "nbconvert_exporter": "python",
   "pygments_lexer": "ipython2",
   "version": "2.7.6"
  }
 },
 "nbformat": 4,
 "nbformat_minor": 0
}
