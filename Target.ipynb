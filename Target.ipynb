{
 "cells": [
  {
   "cell_type": "markdown",
   "metadata": {},
   "source": [
    "## Target calculation ##\n",
    "\n",
    "\n",
    "### Tiff's notes ###\n",
    "\n",
    " - could leave padding (-> target size) more flexible - but given that x2 always seems to work best this probably isn't necessary\n",
    "\n"
   ]
  },
  {
   "cell_type": "code",
   "execution_count": 2,
   "metadata": {
    "collapsed": true
   },
   "outputs": [],
   "source": [
    "import matplotlib.pyplot as plt\n",
    "import numpy as np\n",
    "import theano\n",
    "\n",
    "%matplotlib inline"
   ]
  },
  {
   "cell_type": "code",
   "execution_count": 22,
   "metadata": {
    "collapsed": true
   },
   "outputs": [],
   "source": [
    "def quick_plot(target):\n",
    "    N = target.shape[0]\n",
    "    plot_args = {'extent': [0, N, 0, N],\n",
    "                 'interpolation': 'None',\n",
    "                 'origin': 'lower'}\n",
    "    fig, ax = plt.subplots(ncols=1, figsize=(5,5))\n",
    "    ax.imshow(target, **plot_args)"
   ]
  },
  {
   "cell_type": "code",
   "execution_count": 25,
   "metadata": {
    "collapsed": false
   },
   "outputs": [
    {
     "data": {
      "image/png": "[encoded data removed]",
      "text/plain": [
       "<matplotlib.figure.Figure at 0x10af63d10>"
      ]
     },
     "metadata": {},
     "output_type": "display_data"
    }
   ],
   "source": [
    "def make_power2(n, r0, d, A=1.0):\n",
    "    \"\"\"\n",
    "    Create n x n target: \n",
    "    2nd order power law centred on r0=(x0,y0) with diameter d and amplitude A\n",
    "    \"\"\"\n",
    "    x = np.array(range(n))*1.\n",
    "    X, Y = np.meshgrid(x, x)\n",
    "    \n",
    "    delta_r2 = np.power(X - r0[0], 2) + np.power(Y - r0[1], 2)\n",
    "    z = A - 4*A/d**2 * delta_r2\n",
    "    z[delta_r2 > d**2/4] = 0\n",
    "    \n",
    "    return z\n",
    "\n",
    "t = make_power2(512,(380,380),32)\n",
    "quick_plot(t)\n",
    "np.savetxt('targets/example_power2.dat', t)"
   ]
  },
  {
   "cell_type": "code",
   "execution_count": 15,
   "metadata": {
    "collapsed": false
   },
   "outputs": [
    {
     "data": {
      "text/plain": [
       "array([[ 16.,   9.,   4.,   1.,   0.,   1.,   4.,   9.,  16.,   0.],\n",
       "       [ 17.,  10.,   5.,   2.,   1.,   2.,   5.,  10.,  17.,   0.],\n",
       "       [ 20.,  13.,   8.,   5.,   4.,   5.,   8.,  13.,  20.,   0.],\n",
       "       [  0.,  18.,  13.,  10.,   9.,  10.,  13.,  18.,   0.,   0.],\n",
       "       [  0.,   0.,  20.,  17.,  16.,  17.,  20.,   0.,   0.,   0.],\n",
       "       [  0.,   0.,   0.,   0.,   0.,   0.,   0.,   0.,   0.,   0.],\n",
       "       [  0.,   0.,   0.,   0.,   0.,   0.,   0.,   0.,   0.,   0.],\n",
       "       [  0.,   0.,   0.,   0.,   0.,   0.,   0.,   0.,   0.,   0.],\n",
       "       [  0.,   0.,   0.,   0.,   0.,   0.,   0.,   0.,   0.,   0.],\n",
       "       [  0.,   0.,   0.,   0.,   0.,   0.,   0.,   0.,   0.,   0.]])"
      ]
     },
     "execution_count": 15,
     "metadata": {},
     "output_type": "execute_result"
    }
   ],
   "source": [
    "r[r>20] = 0\n",
    "r"
   ]
  },
  {
   "cell_type": "code",
   "execution_count": null,
   "metadata": {
    "collapsed": true
   },
   "outputs": [],
   "source": []
  }
 ],
 "metadata": {
  "kernelspec": {
   "display_name": "Python 2",
   "language": "python",
   "name": "python2"
  },
  "language_info": {
   "codemirror_mode": {
    "name": "ipython",
    "version": 2
   },
   "file_extension": ".py",
   "mimetype": "text/x-python",
   "name": "python",
   "nbconvert_exporter": "python",
   "pygments_lexer": "ipython2",
   "version": "2.7.9"
  }
 },
 "nbformat": 4,
 "nbformat_minor": 0
}
